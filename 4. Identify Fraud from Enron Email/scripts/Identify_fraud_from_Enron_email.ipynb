{
 "cells": [
  {
   "cell_type": "markdown",
   "metadata": {},
   "source": [
    "# Identifying Fraud From Enron Data"
   ]
  },
  {
   "cell_type": "markdown",
   "metadata": {},
   "source": [
    "### Udacity Nanodegree Project 4"
   ]
  },
  {
   "cell_type": "markdown",
   "metadata": {},
   "source": [
    "####By Joe Nyzio "
   ]
  },
  {
   "cell_type": "markdown",
   "metadata": {},
   "source": [
    "# 2. Understanding the Dataset and Question"
   ]
  },
  {
   "cell_type": "markdown",
   "metadata": {},
   "source": [
    "Address the most important characteristics of the dataset and use these characteristics to inform analysis.  Include total number of data points, allocation across classes, and number of features."
   ]
  },
  {
   "cell_type": "markdown",
   "metadata": {},
   "source": [
    "##### Address the most important characteristics of the dataset and use the characteristics to inform analysis.  \n",
    "- Total no. of data points\n",
    "- allocation across classes (POI/non-POI)\n",
    "-no. of features used"
   ]
  },
  {
   "cell_type": "code",
   "execution_count": 1,
   "metadata": {
    "collapsed": true
   },
   "outputs": [],
   "source": [
    "import numpy as np\n",
    "import pandas as pd"
   ]
  },
  {
   "cell_type": "code",
   "execution_count": 2,
   "metadata": {
    "collapsed": true
   },
   "outputs": [],
   "source": [
    "#!/usr/bin/python\n",
    "\n",
    "\"\"\" \n",
    "    starter code for exploring the Enron dataset (emails + finances) \n",
    "    loads up the dataset (pickled dict of dicts)\n",
    "\n",
    "    the dataset has the form\n",
    "    enron_data[\"LASTNAME FIRSTNAME MIDDLEINITIAL\"] = { features_dict }\n",
    "\n",
    "    {features_dict} is a dictionary of features associated with that person\n",
    "    you should explore features_dict as part of the mini-project,\n",
    "    but here's an example to get you started:\n",
    "\n",
    "    enron_data[\"SKILLING JEFFREY K\"][\"bonus\"] = 5600000\n",
    "    \n",
    "\"\"\"\n",
    "\n",
    "import pickle\n",
    "\n",
    "enron_data = pickle.load(open(\"../data/final_project_dataset.pkl\", \"r\"))"
   ]
  },
  {
   "cell_type": "markdown",
   "metadata": {},
   "source": [
    "### How many data points (people) are in the dataset?"
   ]
  },
  {
   "cell_type": "code",
   "execution_count": 3,
   "metadata": {
    "collapsed": false
   },
   "outputs": [
    {
     "name": "stdout",
     "output_type": "stream",
     "text": [
      "There are 146 people in the dataset.\n"
     ]
    }
   ],
   "source": [
    "people = len(enron_data)\n",
    "print \"There are \" + str(people) + \" people in the dataset.\""
   ]
  },
  {
   "cell_type": "markdown",
   "metadata": {},
   "source": [
    "### How many features are in the dataset?"
   ]
  },
  {
   "cell_type": "code",
   "execution_count": 4,
   "metadata": {
    "collapsed": false
   },
   "outputs": [
    {
     "name": "stdout",
     "output_type": "stream",
     "text": [
      "There are 21 features in the dataset.\n"
     ]
    }
   ],
   "source": [
    "features = len(enron_data['ALLEN PHILLIP K'])\n",
    "print \"There are \" + str(features) + \" features in the dataset.\""
   ]
  },
  {
   "cell_type": "markdown",
   "metadata": {},
   "source": [
    "### How many poi's are in the dataset?"
   ]
  },
  {
   "cell_type": "code",
   "execution_count": 5,
   "metadata": {
    "collapsed": false
   },
   "outputs": [
    {
     "name": "stdout",
     "output_type": "stream",
     "text": [
      "There are 18 poi's in the dataset.\n"
     ]
    }
   ],
   "source": [
    "def poi_counter(file):\n",
    "    count = 0 \n",
    "    for person in file:\n",
    "        if file[person]['poi'] == True:\n",
    "            count += 1\n",
    "    print \"There are \" + str(count) + \" poi's in the dataset.\"\n",
    "\n",
    "poi_counter(enron_data)"
   ]
  },
  {
   "cell_type": "code",
   "execution_count": 6,
   "metadata": {
    "collapsed": false
   },
   "outputs": [
    {
     "name": "stdout",
     "output_type": "stream",
     "text": [
      "There were 35 poi's total.\n"
     ]
    }
   ],
   "source": [
    "ofile = open('../data/poi_names.txt','r')\n",
    "rfile = ofile.readlines()\n",
    "poi = len(rfile[2:])\n",
    "print \"There were \" + str(poi) + \" poi's total.\""
   ]
  },
  {
   "cell_type": "markdown",
   "metadata": {},
   "source": [
    "### A quick look at the data"
   ]
  },
  {
   "cell_type": "code",
   "execution_count": 7,
   "metadata": {
    "collapsed": true
   },
   "outputs": [],
   "source": [
    "df = pd.DataFrame(enron_data)"
   ]
  },
  {
   "cell_type": "code",
   "execution_count": 8,
   "metadata": {
    "collapsed": false
   },
   "outputs": [
    {
     "data": {
      "text/plain": [
       "pandas.core.frame.DataFrame"
      ]
     },
     "execution_count": 8,
     "metadata": {},
     "output_type": "execute_result"
    }
   ],
   "source": [
    "type(df)"
   ]
  },
  {
   "cell_type": "code",
   "execution_count": 9,
   "metadata": {
    "collapsed": false
   },
   "outputs": [
    {
     "data": {
      "text/html": [
       "<div style=\"max-height:1000px;max-width:1500px;overflow:auto;\">\n",
       "<table border=\"1\" class=\"dataframe\">\n",
       "  <thead>\n",
       "    <tr style=\"text-align: right;\">\n",
       "      <th></th>\n",
       "      <th>ALLEN PHILLIP K</th>\n",
       "      <th>BADUM JAMES P</th>\n",
       "      <th>BANNANTINE JAMES M</th>\n",
       "      <th>BAXTER JOHN C</th>\n",
       "      <th>BAY FRANKLIN R</th>\n",
       "      <th>BAZELIDES PHILIP J</th>\n",
       "      <th>BECK SALLY W</th>\n",
       "      <th>BELDEN TIMOTHY N</th>\n",
       "      <th>BELFER ROBERT</th>\n",
       "      <th>BERBERIAN DAVID</th>\n",
       "      <th>...</th>\n",
       "      <th>WASAFF GEORGE</th>\n",
       "      <th>WESTFAHL RICHARD K</th>\n",
       "      <th>WHALEY DAVID A</th>\n",
       "      <th>WHALLEY LAWRENCE G</th>\n",
       "      <th>WHITE JR THOMAS E</th>\n",
       "      <th>WINOKUR JR. HERBERT S</th>\n",
       "      <th>WODRASKA JOHN</th>\n",
       "      <th>WROBEL BRUCE</th>\n",
       "      <th>YEAGER F SCOTT</th>\n",
       "      <th>YEAP SOON</th>\n",
       "    </tr>\n",
       "  </thead>\n",
       "  <tbody>\n",
       "    <tr>\n",
       "      <th>bonus</th>\n",
       "      <td>                 4175000</td>\n",
       "      <td>    NaN</td>\n",
       "      <td>                        NaN</td>\n",
       "      <td>  1200000</td>\n",
       "      <td>              400000</td>\n",
       "      <td>    NaN</td>\n",
       "      <td>               700000</td>\n",
       "      <td>              5249999</td>\n",
       "      <td>     NaN</td>\n",
       "      <td>                       NaN</td>\n",
       "      <td>...</td>\n",
       "      <td>                  325000</td>\n",
       "      <td>                     NaN</td>\n",
       "      <td> NaN</td>\n",
       "      <td>                3000000</td>\n",
       "      <td>                 450000</td>\n",
       "      <td>    NaN</td>\n",
       "      <td>                     NaN</td>\n",
       "      <td> NaN</td>\n",
       "      <td>                    NaN</td>\n",
       "      <td> NaN</td>\n",
       "    </tr>\n",
       "    <tr>\n",
       "      <th>deferral_payments</th>\n",
       "      <td>                 2869717</td>\n",
       "      <td> 178980</td>\n",
       "      <td>                        NaN</td>\n",
       "      <td>  1295738</td>\n",
       "      <td>              260455</td>\n",
       "      <td> 684694</td>\n",
       "      <td>                  NaN</td>\n",
       "      <td>              2144013</td>\n",
       "      <td> -102500</td>\n",
       "      <td>                       NaN</td>\n",
       "      <td>...</td>\n",
       "      <td>                  831299</td>\n",
       "      <td>                     NaN</td>\n",
       "      <td> NaN</td>\n",
       "      <td>                    NaN</td>\n",
       "      <td>                    NaN</td>\n",
       "      <td>    NaN</td>\n",
       "      <td>                     NaN</td>\n",
       "      <td> NaN</td>\n",
       "      <td>                    NaN</td>\n",
       "      <td> NaN</td>\n",
       "    </tr>\n",
       "    <tr>\n",
       "      <th>deferred_income</th>\n",
       "      <td>                -3081055</td>\n",
       "      <td>    NaN</td>\n",
       "      <td>                      -5104</td>\n",
       "      <td> -1386055</td>\n",
       "      <td>             -201641</td>\n",
       "      <td>    NaN</td>\n",
       "      <td>                  NaN</td>\n",
       "      <td>             -2334434</td>\n",
       "      <td>     NaN</td>\n",
       "      <td>                       NaN</td>\n",
       "      <td>...</td>\n",
       "      <td>                 -583325</td>\n",
       "      <td>                  -10800</td>\n",
       "      <td> NaN</td>\n",
       "      <td>                    NaN</td>\n",
       "      <td>                    NaN</td>\n",
       "      <td> -25000</td>\n",
       "      <td>                     NaN</td>\n",
       "      <td> NaN</td>\n",
       "      <td>                    NaN</td>\n",
       "      <td> NaN</td>\n",
       "    </tr>\n",
       "    <tr>\n",
       "      <th>director_fees</th>\n",
       "      <td>                     NaN</td>\n",
       "      <td>    NaN</td>\n",
       "      <td>                        NaN</td>\n",
       "      <td>      NaN</td>\n",
       "      <td>                 NaN</td>\n",
       "      <td>    NaN</td>\n",
       "      <td>                  NaN</td>\n",
       "      <td>                  NaN</td>\n",
       "      <td>    3285</td>\n",
       "      <td>                       NaN</td>\n",
       "      <td>...</td>\n",
       "      <td>                     NaN</td>\n",
       "      <td>                     NaN</td>\n",
       "      <td> NaN</td>\n",
       "      <td>                    NaN</td>\n",
       "      <td>                    NaN</td>\n",
       "      <td> 108579</td>\n",
       "      <td>                     NaN</td>\n",
       "      <td> NaN</td>\n",
       "      <td>                    NaN</td>\n",
       "      <td> NaN</td>\n",
       "    </tr>\n",
       "    <tr>\n",
       "      <th>email_address</th>\n",
       "      <td> phillip.allen@enron.com</td>\n",
       "      <td>    NaN</td>\n",
       "      <td> james.bannantine@enron.com</td>\n",
       "      <td>      NaN</td>\n",
       "      <td> frank.bay@enron.com</td>\n",
       "      <td>    NaN</td>\n",
       "      <td> sally.beck@enron.com</td>\n",
       "      <td> tim.belden@enron.com</td>\n",
       "      <td>     NaN</td>\n",
       "      <td> david.berberian@enron.com</td>\n",
       "      <td>...</td>\n",
       "      <td> george.wasaff@enron.com</td>\n",
       "      <td> dick.westfahl@enron.com</td>\n",
       "      <td> NaN</td>\n",
       "      <td> greg.whalley@enron.com</td>\n",
       "      <td> thomas.white@enron.com</td>\n",
       "      <td>    NaN</td>\n",
       "      <td> john.wodraska@enron.com</td>\n",
       "      <td> NaN</td>\n",
       "      <td> scott.yeager@enron.com</td>\n",
       "      <td> NaN</td>\n",
       "    </tr>\n",
       "  </tbody>\n",
       "</table>\n",
       "<p>5 rows × 146 columns</p>\n",
       "</div>"
      ],
      "text/plain": [
       "                           ALLEN PHILLIP K BADUM JAMES P  \\\n",
       "bonus                              4175000           NaN   \n",
       "deferral_payments                  2869717        178980   \n",
       "deferred_income                   -3081055           NaN   \n",
       "director_fees                          NaN           NaN   \n",
       "email_address      phillip.allen@enron.com           NaN   \n",
       "\n",
       "                           BANNANTINE JAMES M BAXTER JOHN C  \\\n",
       "bonus                                     NaN       1200000   \n",
       "deferral_payments                         NaN       1295738   \n",
       "deferred_income                         -5104      -1386055   \n",
       "director_fees                             NaN           NaN   \n",
       "email_address      james.bannantine@enron.com           NaN   \n",
       "\n",
       "                        BAY FRANKLIN R BAZELIDES PHILIP J  \\\n",
       "bonus                           400000                NaN   \n",
       "deferral_payments               260455             684694   \n",
       "deferred_income                -201641                NaN   \n",
       "director_fees                      NaN                NaN   \n",
       "email_address      frank.bay@enron.com                NaN   \n",
       "\n",
       "                           BECK SALLY W      BELDEN TIMOTHY N BELFER ROBERT  \\\n",
       "bonus                            700000               5249999           NaN   \n",
       "deferral_payments                   NaN               2144013       -102500   \n",
       "deferred_income                     NaN              -2334434           NaN   \n",
       "director_fees                       NaN                   NaN          3285   \n",
       "email_address      sally.beck@enron.com  tim.belden@enron.com           NaN   \n",
       "\n",
       "                             BERBERIAN DAVID            ...              \\\n",
       "bonus                                    NaN            ...               \n",
       "deferral_payments                        NaN            ...               \n",
       "deferred_income                          NaN            ...               \n",
       "director_fees                            NaN            ...               \n",
       "email_address      david.berberian@enron.com            ...               \n",
       "\n",
       "                             WASAFF GEORGE       WESTFAHL RICHARD K  \\\n",
       "bonus                               325000                      NaN   \n",
       "deferral_payments                   831299                      NaN   \n",
       "deferred_income                    -583325                   -10800   \n",
       "director_fees                          NaN                      NaN   \n",
       "email_address      george.wasaff@enron.com  dick.westfahl@enron.com   \n",
       "\n",
       "                  WHALEY DAVID A      WHALLEY LAWRENCE G  \\\n",
       "bonus                        NaN                 3000000   \n",
       "deferral_payments            NaN                     NaN   \n",
       "deferred_income              NaN                     NaN   \n",
       "director_fees                NaN                     NaN   \n",
       "email_address                NaN  greg.whalley@enron.com   \n",
       "\n",
       "                        WHITE JR THOMAS E WINOKUR JR. HERBERT S  \\\n",
       "bonus                              450000                   NaN   \n",
       "deferral_payments                     NaN                   NaN   \n",
       "deferred_income                       NaN                -25000   \n",
       "director_fees                         NaN                108579   \n",
       "email_address      thomas.white@enron.com                   NaN   \n",
       "\n",
       "                             WODRASKA JOHN WROBEL BRUCE  \\\n",
       "bonus                                  NaN          NaN   \n",
       "deferral_payments                      NaN          NaN   \n",
       "deferred_income                        NaN          NaN   \n",
       "director_fees                          NaN          NaN   \n",
       "email_address      john.wodraska@enron.com          NaN   \n",
       "\n",
       "                           YEAGER F SCOTT YEAP SOON  \n",
       "bonus                                 NaN       NaN  \n",
       "deferral_payments                     NaN       NaN  \n",
       "deferred_income                       NaN       NaN  \n",
       "director_fees                         NaN       NaN  \n",
       "email_address      scott.yeager@enron.com       NaN  \n",
       "\n",
       "[5 rows x 146 columns]"
      ]
     },
     "execution_count": 9,
     "metadata": {},
     "output_type": "execute_result"
    }
   ],
   "source": [
    "df.head()"
   ]
  },
  {
   "cell_type": "code",
   "execution_count": 10,
   "metadata": {
    "collapsed": false
   },
   "outputs": [
    {
     "data": {
      "text/plain": [
       "ALLEN PHILLIP K         object\n",
       "BADUM JAMES P           object\n",
       "BANNANTINE JAMES M      object\n",
       "BAXTER JOHN C           object\n",
       "BAY FRANKLIN R          object\n",
       "BAZELIDES PHILIP J      object\n",
       "BECK SALLY W            object\n",
       "BELDEN TIMOTHY N        object\n",
       "BELFER ROBERT           object\n",
       "BERBERIAN DAVID         object\n",
       "BERGSIEKER RICHARD P    object\n",
       "BHATNAGAR SANJAY        object\n",
       "BIBI PHILIPPE A         object\n",
       "BLACHMAN JEREMY M       object\n",
       "BLAKE JR. NORMAN P      object\n",
       "...\n",
       "UMANOFF ADAM S           object\n",
       "URQUHART JOHN A          object\n",
       "WAKEHAM JOHN             object\n",
       "WALLS JR ROBERT H        object\n",
       "WALTERS GARETH W         object\n",
       "WASAFF GEORGE            object\n",
       "WESTFAHL RICHARD K       object\n",
       "WHALEY DAVID A           object\n",
       "WHALLEY LAWRENCE G       object\n",
       "WHITE JR THOMAS E        object\n",
       "WINOKUR JR. HERBERT S    object\n",
       "WODRASKA JOHN            object\n",
       "WROBEL BRUCE             object\n",
       "YEAGER F SCOTT           object\n",
       "YEAP SOON                object\n",
       "Length: 146, dtype: object"
      ]
     },
     "execution_count": 10,
     "metadata": {},
     "output_type": "execute_result"
    }
   ],
   "source": [
    "df.dtypes"
   ]
  },
  {
   "cell_type": "code",
   "execution_count": 11,
   "metadata": {
    "collapsed": false
   },
   "outputs": [
    {
     "name": "stdout",
     "output_type": "stream",
     "text": [
      "<class 'pandas.core.frame.DataFrame'>\n",
      "Index: 21 entries, bonus to total_stock_value\n",
      "Columns: 146 entries, ALLEN PHILLIP K to YEAP SOON\n",
      "dtypes: object(146)"
     ]
    }
   ],
   "source": [
    "df.info()"
   ]
  },
  {
   "cell_type": "code",
   "execution_count": 12,
   "metadata": {
    "collapsed": true
   },
   "outputs": [],
   "source": [
    "tdf = df.transpose()"
   ]
  },
  {
   "cell_type": "code",
   "execution_count": 13,
   "metadata": {
    "collapsed": false
   },
   "outputs": [
    {
     "data": {
      "text/html": [
       "<div style=\"max-height:1000px;max-width:1500px;overflow:auto;\">\n",
       "<table border=\"1\" class=\"dataframe\">\n",
       "  <thead>\n",
       "    <tr style=\"text-align: right;\">\n",
       "      <th></th>\n",
       "      <th>bonus</th>\n",
       "      <th>deferral_payments</th>\n",
       "      <th>deferred_income</th>\n",
       "      <th>director_fees</th>\n",
       "      <th>email_address</th>\n",
       "      <th>exercised_stock_options</th>\n",
       "      <th>expenses</th>\n",
       "      <th>from_messages</th>\n",
       "      <th>from_poi_to_this_person</th>\n",
       "      <th>from_this_person_to_poi</th>\n",
       "      <th>...</th>\n",
       "      <th>long_term_incentive</th>\n",
       "      <th>other</th>\n",
       "      <th>poi</th>\n",
       "      <th>restricted_stock</th>\n",
       "      <th>restricted_stock_deferred</th>\n",
       "      <th>salary</th>\n",
       "      <th>shared_receipt_with_poi</th>\n",
       "      <th>to_messages</th>\n",
       "      <th>total_payments</th>\n",
       "      <th>total_stock_value</th>\n",
       "    </tr>\n",
       "  </thead>\n",
       "  <tbody>\n",
       "    <tr>\n",
       "      <th>ALLEN PHILLIP K</th>\n",
       "      <td> 4175000</td>\n",
       "      <td> 2869717</td>\n",
       "      <td> -3081055</td>\n",
       "      <td> NaN</td>\n",
       "      <td>    phillip.allen@enron.com</td>\n",
       "      <td> 1729541</td>\n",
       "      <td>  13868</td>\n",
       "      <td> 2195</td>\n",
       "      <td>  47</td>\n",
       "      <td>  65</td>\n",
       "      <td>...</td>\n",
       "      <td>  304805</td>\n",
       "      <td>     152</td>\n",
       "      <td> False</td>\n",
       "      <td>  126027</td>\n",
       "      <td> -126027</td>\n",
       "      <td> 201955</td>\n",
       "      <td> 1407</td>\n",
       "      <td> 2902</td>\n",
       "      <td> 4484442</td>\n",
       "      <td>  1729541</td>\n",
       "    </tr>\n",
       "    <tr>\n",
       "      <th>BADUM JAMES P</th>\n",
       "      <td>     NaN</td>\n",
       "      <td>  178980</td>\n",
       "      <td>      NaN</td>\n",
       "      <td> NaN</td>\n",
       "      <td>                        NaN</td>\n",
       "      <td>  257817</td>\n",
       "      <td>   3486</td>\n",
       "      <td>  NaN</td>\n",
       "      <td> NaN</td>\n",
       "      <td> NaN</td>\n",
       "      <td>...</td>\n",
       "      <td>     NaN</td>\n",
       "      <td>     NaN</td>\n",
       "      <td> False</td>\n",
       "      <td>     NaN</td>\n",
       "      <td>     NaN</td>\n",
       "      <td>    NaN</td>\n",
       "      <td>  NaN</td>\n",
       "      <td>  NaN</td>\n",
       "      <td>  182466</td>\n",
       "      <td>   257817</td>\n",
       "    </tr>\n",
       "    <tr>\n",
       "      <th>BANNANTINE JAMES M</th>\n",
       "      <td>     NaN</td>\n",
       "      <td>     NaN</td>\n",
       "      <td>    -5104</td>\n",
       "      <td> NaN</td>\n",
       "      <td> james.bannantine@enron.com</td>\n",
       "      <td> 4046157</td>\n",
       "      <td>  56301</td>\n",
       "      <td>   29</td>\n",
       "      <td>  39</td>\n",
       "      <td>   0</td>\n",
       "      <td>...</td>\n",
       "      <td>     NaN</td>\n",
       "      <td>  864523</td>\n",
       "      <td> False</td>\n",
       "      <td> 1757552</td>\n",
       "      <td> -560222</td>\n",
       "      <td>    477</td>\n",
       "      <td>  465</td>\n",
       "      <td>  566</td>\n",
       "      <td>  916197</td>\n",
       "      <td>  5243487</td>\n",
       "    </tr>\n",
       "    <tr>\n",
       "      <th>BAXTER JOHN C</th>\n",
       "      <td> 1200000</td>\n",
       "      <td> 1295738</td>\n",
       "      <td> -1386055</td>\n",
       "      <td> NaN</td>\n",
       "      <td>                        NaN</td>\n",
       "      <td> 6680544</td>\n",
       "      <td>  11200</td>\n",
       "      <td>  NaN</td>\n",
       "      <td> NaN</td>\n",
       "      <td> NaN</td>\n",
       "      <td>...</td>\n",
       "      <td> 1586055</td>\n",
       "      <td> 2660303</td>\n",
       "      <td> False</td>\n",
       "      <td> 3942714</td>\n",
       "      <td>     NaN</td>\n",
       "      <td> 267102</td>\n",
       "      <td>  NaN</td>\n",
       "      <td>  NaN</td>\n",
       "      <td> 5634343</td>\n",
       "      <td> 10623258</td>\n",
       "    </tr>\n",
       "    <tr>\n",
       "      <th>BAY FRANKLIN R</th>\n",
       "      <td>  400000</td>\n",
       "      <td>  260455</td>\n",
       "      <td>  -201641</td>\n",
       "      <td> NaN</td>\n",
       "      <td>        frank.bay@enron.com</td>\n",
       "      <td>     NaN</td>\n",
       "      <td> 129142</td>\n",
       "      <td>  NaN</td>\n",
       "      <td> NaN</td>\n",
       "      <td> NaN</td>\n",
       "      <td>...</td>\n",
       "      <td>     NaN</td>\n",
       "      <td>      69</td>\n",
       "      <td> False</td>\n",
       "      <td>  145796</td>\n",
       "      <td>  -82782</td>\n",
       "      <td> 239671</td>\n",
       "      <td>  NaN</td>\n",
       "      <td>  NaN</td>\n",
       "      <td>  827696</td>\n",
       "      <td>    63014</td>\n",
       "    </tr>\n",
       "  </tbody>\n",
       "</table>\n",
       "<p>5 rows × 21 columns</p>\n",
       "</div>"
      ],
      "text/plain": [
       "                      bonus deferral_payments deferred_income director_fees  \\\n",
       "ALLEN PHILLIP K     4175000           2869717        -3081055           NaN   \n",
       "BADUM JAMES P           NaN            178980             NaN           NaN   \n",
       "BANNANTINE JAMES M      NaN               NaN           -5104           NaN   \n",
       "BAXTER JOHN C       1200000           1295738        -1386055           NaN   \n",
       "BAY FRANKLIN R       400000            260455         -201641           NaN   \n",
       "\n",
       "                                 email_address exercised_stock_options  \\\n",
       "ALLEN PHILLIP K        phillip.allen@enron.com                 1729541   \n",
       "BADUM JAMES P                              NaN                  257817   \n",
       "BANNANTINE JAMES M  james.bannantine@enron.com                 4046157   \n",
       "BAXTER JOHN C                              NaN                 6680544   \n",
       "BAY FRANKLIN R             frank.bay@enron.com                     NaN   \n",
       "\n",
       "                   expenses from_messages from_poi_to_this_person  \\\n",
       "ALLEN PHILLIP K       13868          2195                      47   \n",
       "BADUM JAMES P          3486           NaN                     NaN   \n",
       "BANNANTINE JAMES M    56301            29                      39   \n",
       "BAXTER JOHN C         11200           NaN                     NaN   \n",
       "BAY FRANKLIN R       129142           NaN                     NaN   \n",
       "\n",
       "                   from_this_person_to_poi           ...            \\\n",
       "ALLEN PHILLIP K                         65           ...             \n",
       "BADUM JAMES P                          NaN           ...             \n",
       "BANNANTINE JAMES M                       0           ...             \n",
       "BAXTER JOHN C                          NaN           ...             \n",
       "BAY FRANKLIN R                         NaN           ...             \n",
       "\n",
       "                   long_term_incentive    other    poi restricted_stock  \\\n",
       "ALLEN PHILLIP K                 304805      152  False           126027   \n",
       "BADUM JAMES P                      NaN      NaN  False              NaN   \n",
       "BANNANTINE JAMES M                 NaN   864523  False          1757552   \n",
       "BAXTER JOHN C                  1586055  2660303  False          3942714   \n",
       "BAY FRANKLIN R                     NaN       69  False           145796   \n",
       "\n",
       "                   restricted_stock_deferred  salary shared_receipt_with_poi  \\\n",
       "ALLEN PHILLIP K                      -126027  201955                    1407   \n",
       "BADUM JAMES P                            NaN     NaN                     NaN   \n",
       "BANNANTINE JAMES M                   -560222     477                     465   \n",
       "BAXTER JOHN C                            NaN  267102                     NaN   \n",
       "BAY FRANKLIN R                        -82782  239671                     NaN   \n",
       "\n",
       "                   to_messages total_payments total_stock_value  \n",
       "ALLEN PHILLIP K           2902        4484442           1729541  \n",
       "BADUM JAMES P              NaN         182466            257817  \n",
       "BANNANTINE JAMES M         566         916197           5243487  \n",
       "BAXTER JOHN C              NaN        5634343          10623258  \n",
       "BAY FRANKLIN R             NaN         827696             63014  \n",
       "\n",
       "[5 rows x 21 columns]"
      ]
     },
     "execution_count": 13,
     "metadata": {},
     "output_type": "execute_result"
    }
   ],
   "source": [
    "tdf.head()"
   ]
  },
  {
   "cell_type": "markdown",
   "metadata": {},
   "source": [
    "## 2.2 Outlier Investigation (related mini-project : Lesson 7)"
   ]
  },
  {
   "cell_type": "markdown",
   "metadata": {},
   "source": [
    "Identify outliers in the financial data, and explain how they are removed or otherwise handled."
   ]
  },
  {
   "cell_type": "markdown",
   "metadata": {},
   "source": [
    "### POI Outliers"
   ]
  },
  {
   "cell_type": "code",
   "execution_count": 14,
   "metadata": {
    "collapsed": false
   },
   "outputs": [
    {
     "name": "stdout",
     "output_type": "stream",
     "text": [
      "Populating the interactive namespace from numpy and matplotlib\n"
     ]
    }
   ],
   "source": [
    "%pylab inline\n",
    "from sklearn import linear_model\n",
    "from pprint import pprint"
   ]
  },
  {
   "cell_type": "code",
   "execution_count": 15,
   "metadata": {
    "collapsed": false
   },
   "outputs": [
    {
     "name": "stdout",
     "output_type": "stream",
     "text": [
      "97343619.0\n"
     ]
    },
    {
     "data": {
      "image/png": "[encoded data removed]",
      "text/plain": [
       "<matplotlib.figure.Figure at 0x109a74150>"
      ]
     },
     "metadata": {},
     "output_type": "display_data"
    }
   ],
   "source": [
    "#!/usr/bin/python\n",
    "\n",
    "import pickle\n",
    "import sys\n",
    "import matplotlib.pyplot\n",
    "sys.path.append(\"../tools/\")\n",
    "from feature_format import featureFormat, targetFeatureSplit\n",
    "\n",
    "\n",
    "### read in data dictionary, convert to numpy array\n",
    "data_dict = pickle.load( open(\"../data/final_project_dataset.pkl\", \"r\") )\n",
    "features = [\"bonus\", \"salary\"]\n",
    "data = featureFormat(data_dict, features)\n",
    "\n",
    "\n",
    "### your code below\n",
    "print data.max()\n",
    "for point in data:\n",
    "    bonus = point[0]\n",
    "    salary = point[1]\n",
    "    matplotlib.pyplot.scatter( bonus, salary )\n",
    "\n",
    "matplotlib.pyplot.xlabel(\"bonus\")\n",
    "matplotlib.pyplot.ylabel(\"salary\")\n",
    "matplotlib.pyplot.show()"
   ]
  },
  {
   "cell_type": "markdown",
   "metadata": {},
   "source": [
    "There is one major outlier in this dataset."
   ]
  },
  {
   "cell_type": "code",
   "execution_count": 16,
   "metadata": {
    "collapsed": false
   },
   "outputs": [
    {
     "name": "stdout",
     "output_type": "stream",
     "text": [
      "[('TOTAL', 97343619), ('LAVORATO JOHN J', 8000000)]\n"
     ]
    }
   ],
   "source": [
    "b_outliers = []\n",
    "for key in data_dict:\n",
    "    val = data_dict[key]['bonus']\n",
    "    if val == 'NaN':\n",
    "        continue\n",
    "    b_outliers.append((key,int(val)))\n",
    "\n",
    "pprint(sorted(b_outliers,key=lambda x:x[1],reverse=True)[:2])"
   ]
  },
  {
   "cell_type": "code",
   "execution_count": 17,
   "metadata": {
    "collapsed": false
   },
   "outputs": [
    {
     "name": "stdout",
     "output_type": "stream",
     "text": [
      "[('TOTAL', 26704229), ('SKILLING JEFFREY K', 1111258)]\n"
     ]
    }
   ],
   "source": [
    "s_outliers = []\n",
    "for key in data_dict:\n",
    "    val = data_dict[key]['salary']\n",
    "    if val == 'NaN':\n",
    "        continue\n",
    "    s_outliers.append((key,int(val)))\n",
    "\n",
    "pprint(sorted(s_outliers,key=lambda x:x[1],reverse=True)[:2])"
   ]
  },
  {
   "cell_type": "markdown",
   "metadata": {},
   "source": [
    "We have a 'TOTAL' column as the major outlier in this dataset.  This will change our results and needs to be removed.  The other outlier is JEFFREY SKILLING.  This is not a mistake or unwanted point.  It is the boss and will definitely be an important point to keep in our investigation."
   ]
  },
  {
   "cell_type": "code",
   "execution_count": 18,
   "metadata": {
    "collapsed": false
   },
   "outputs": [
    {
     "name": "stdout",
     "output_type": "stream",
     "text": [
      "8000000.0\n"
     ]
    },
    {
     "data": {
      "image/png": "[encoded data removed]",
      "text/plain": [
       "<matplotlib.figure.Figure at 0x109a741d0>"
      ]
     },
     "metadata": {},
     "output_type": "display_data"
    }
   ],
   "source": [
    "#!/usr/bin/python\n",
    "\n",
    "import pickle\n",
    "import sys\n",
    "import matplotlib.pyplot\n",
    "sys.path.append(\"../tools/\")\n",
    "from feature_format import featureFormat, targetFeatureSplit\n",
    "\n",
    "\n",
    "### read in data dictionary, convert to numpy array\n",
    "data_dict = pickle.load( open(\"../data/final_project_dataset.pkl\", \"r\") )\n",
    "features = [\"salary\", \"bonus\"]\n",
    "\n",
    "data_dict.pop('TOTAL',0)\n",
    "\n",
    "data = featureFormat(data_dict, features)\n",
    "\n",
    "\n",
    "### your code below\n",
    "print data.max()\n",
    "for point in data:\n",
    "    salary = point[0]\n",
    "    bonus = point[1]\n",
    "    matplotlib.pyplot.scatter( salary, bonus )\n",
    "\n",
    "matplotlib.pyplot.xlabel(\"salary\")\n",
    "matplotlib.pyplot.ylabel(\"bonus\")\n",
    "matplotlib.pyplot.show()"
   ]
  },
  {
   "cell_type": "markdown",
   "metadata": {},
   "source": [
    "We also need to investigate the variables 'from_poi_to_this_person' and 'from_this_person_to_poi'."
   ]
  },
  {
   "cell_type": "code",
   "execution_count": 19,
   "metadata": {
    "collapsed": false
   },
   "outputs": [
    {
     "name": "stdout",
     "output_type": "stream",
     "text": [
      "609.0\n"
     ]
    },
    {
     "data": {
      "image/png": "[encoded data removed]",
      "text/plain": [
       "<matplotlib.figure.Figure at 0x109dd8d10>"
      ]
     },
     "metadata": {},
     "output_type": "display_data"
    }
   ],
   "source": [
    "#!/usr/bin/python\n",
    "\n",
    "import pickle\n",
    "import sys\n",
    "import matplotlib.pyplot\n",
    "sys.path.append(\"../tools/\")\n",
    "from feature_format import featureFormat, targetFeatureSplit\n",
    "\n",
    "\n",
    "### read in data dictionary, convert to numpy array\n",
    "data_dict = pickle.load( open(\"../data/final_project_dataset.pkl\", \"r\") )\n",
    "features = [\"from_this_person_to_poi\", \"from_poi_to_this_person\"]\n",
    "data = featureFormat(data_dict, features)\n",
    "\n",
    "\n",
    "### your code below\n",
    "print data.max()\n",
    "for point in data:\n",
    "    from_this_person_to_poi = point[0]\n",
    "    from_poi_to_this_person = point[1]\n",
    "    matplotlib.pyplot.scatter( from_this_person_to_poi, from_poi_to_this_person )\n",
    "\n",
    "matplotlib.pyplot.xlabel(\"from_this_person_to_poi\")\n",
    "matplotlib.pyplot.ylabel(\"from_poi_to_this_person\")\n",
    "matplotlib.pyplot.show()"
   ]
  },
  {
   "cell_type": "markdown",
   "metadata": {},
   "source": [
    "A few outliers, 2 major ones, who are they?"
   ]
  },
  {
   "cell_type": "code",
   "execution_count": 20,
   "metadata": {
    "collapsed": false
   },
   "outputs": [
    {
     "name": "stdout",
     "output_type": "stream",
     "text": [
      "[('DELAINEY DAVID W', 609), ('LAVORATO JOHN J', 411)]\n"
     ]
    }
   ],
   "source": [
    "to_poi_outliers = []\n",
    "for key in data_dict:\n",
    "    val = data_dict[key]['from_this_person_to_poi']\n",
    "    if val == 'NaN':\n",
    "        continue\n",
    "    to_poi_outliers.append((key,int(val)))\n",
    "\n",
    "pprint(sorted(to_poi_outliers,key=lambda x:x[1],reverse=True)[:2])"
   ]
  },
  {
   "cell_type": "markdown",
   "metadata": {},
   "source": [
    "These are actual people, not mistakes, likely bosses placed in charge of communications, I'll keep these outliers."
   ]
  },
  {
   "cell_type": "code",
   "execution_count": 21,
   "metadata": {
    "collapsed": false
   },
   "outputs": [
    {
     "name": "stdout",
     "output_type": "stream",
     "text": [
      "[('LAVORATO JOHN J', 528), ('DIETRICH JANET R', 305)]\n"
     ]
    }
   ],
   "source": [
    "from_poi_outliers = []\n",
    "for key in data_dict:\n",
    "    val = data_dict[key]['from_poi_to_this_person']\n",
    "    if val == 'NaN':\n",
    "        continue\n",
    "    from_poi_outliers.append((key,int(val)))\n",
    "\n",
    "pprint(sorted(from_poi_outliers,key=lambda x:x[1],reverse=True)[:2])"
   ]
  },
  {
   "cell_type": "markdown",
   "metadata": {},
   "source": [
    "These are also people in the dataset and will be important for identifying POI's.  Looks like LAVORATO JOHN J is a big deal in communications throughout Enron.  Bet he made a big bonus for his efforts."
   ]
  },
  {
   "cell_type": "markdown",
   "metadata": {},
   "source": [
    "I'm just going to check out bonus and salary for these top communicators to see if they appear relevant."
   ]
  },
  {
   "cell_type": "markdown",
   "metadata": {},
   "source": [
    "### Jon"
   ]
  },
  {
   "cell_type": "code",
   "execution_count": 22,
   "metadata": {
    "collapsed": false
   },
   "outputs": [
    {
     "data": {
      "text/plain": [
       "8000000"
      ]
     },
     "execution_count": 22,
     "metadata": {},
     "output_type": "execute_result"
    }
   ],
   "source": [
    "enron_data['LAVORATO JOHN J']['bonus']"
   ]
  },
  {
   "cell_type": "code",
   "execution_count": 23,
   "metadata": {
    "collapsed": false
   },
   "outputs": [
    {
     "data": {
      "text/plain": [
       "339288"
      ]
     },
     "execution_count": 23,
     "metadata": {},
     "output_type": "execute_result"
    }
   ],
   "source": [
    "enron_data['LAVORATO JOHN J']['salary']"
   ]
  },
  {
   "cell_type": "markdown",
   "metadata": {},
   "source": [
    "### Janet"
   ]
  },
  {
   "cell_type": "code",
   "execution_count": 24,
   "metadata": {
    "collapsed": false
   },
   "outputs": [
    {
     "data": {
      "text/plain": [
       "600000"
      ]
     },
     "execution_count": 24,
     "metadata": {},
     "output_type": "execute_result"
    }
   ],
   "source": [
    "enron_data['DIETRICH JANET R']['bonus']"
   ]
  },
  {
   "cell_type": "code",
   "execution_count": 25,
   "metadata": {
    "collapsed": false
   },
   "outputs": [
    {
     "data": {
      "text/plain": [
       "250100"
      ]
     },
     "execution_count": 25,
     "metadata": {},
     "output_type": "execute_result"
    }
   ],
   "source": [
    "enron_data['DIETRICH JANET R']['salary']"
   ]
  },
  {
   "cell_type": "markdown",
   "metadata": {},
   "source": [
    "### Dave"
   ]
  },
  {
   "cell_type": "code",
   "execution_count": 26,
   "metadata": {
    "collapsed": false
   },
   "outputs": [
    {
     "data": {
      "text/plain": [
       "3000000"
      ]
     },
     "execution_count": 26,
     "metadata": {},
     "output_type": "execute_result"
    }
   ],
   "source": [
    "enron_data['DELAINEY DAVID W']['bonus']"
   ]
  },
  {
   "cell_type": "code",
   "execution_count": 27,
   "metadata": {
    "collapsed": false
   },
   "outputs": [
    {
     "data": {
      "text/plain": [
       "365163"
      ]
     },
     "execution_count": 27,
     "metadata": {},
     "output_type": "execute_result"
    }
   ],
   "source": [
    "enron_data['DELAINEY DAVID W']['salary']"
   ]
  },
  {
   "cell_type": "markdown",
   "metadata": {},
   "source": [
    "I'll only be removing 'TOTAL' for my final file.  I will use the following function to do this."
   ]
  },
  {
   "cell_type": "code",
   "execution_count": 28,
   "metadata": {
    "collapsed": false
   },
   "outputs": [
    {
     "name": "stdout",
     "output_type": "stream",
     "text": [
      "Overwriting ../tools/remove_outlier.py\n"
     ]
    }
   ],
   "source": [
    "%%writefile ../tools/remove_outlier.py\n",
    "\n",
    "def remove_outlier(dict_object, keys):\n",
    "    \"\"\" removes a list of keys from a dict object \"\"\"\n",
    "    for key in keys:\n",
    "        dict_object.pop(key, 0)"
   ]
  },
  {
   "cell_type": "markdown",
   "metadata": {},
   "source": [
    "# 3. Optimize Feature Selection/Engineering"
   ]
  },
  {
   "cell_type": "markdown",
   "metadata": {},
   "source": [
    "### 3.1 Create new features (related mini-project: Lesson 11)"
   ]
  },
  {
   "cell_type": "markdown",
   "metadata": {},
   "source": [
    "My new feature is an attempt to reduce of a persons contact information to single variable.  I want this variable to be the ratio between the workers emails to poi's and non poi's. "
   ]
  },
  {
   "cell_type": "code",
   "execution_count": 29,
   "metadata": {
    "collapsed": false
   },
   "outputs": [
    {
     "name": "stdout",
     "output_type": "stream",
     "text": [
      "Overwriting poi_ratio.py\n"
     ]
    }
   ],
   "source": [
    "%%writefile poi_ratio.py\n",
    "\n",
    "def add_poi_ratio(data_dict, features_list):\n",
    "    \n",
    "    values = ['from_poi_to_this_person', \n",
    "              'from_this_person_to_poi',\n",
    "              'to_messages', \n",
    "              'from_messages']\n",
    "    \n",
    "    for record in data_dict:\n",
    "        person = data_dict[record]\n",
    "        valid = True\n",
    "        for value in values:\n",
    "            if person[value] == 'NaN':\n",
    "                valid = False\n",
    "                \n",
    "        if valid:\n",
    "            poi = person['from_poi_to_this_person'] +\\\n",
    "                  person['from_this_person_to_poi']\n",
    "            total = person['to_messages'] +\\\n",
    "                    person['from_messages']\n",
    "\n",
    "            person['poi_ratio'] = float(poi) / total\n",
    "        else:\n",
    "            person['poi_ratio'] = 'NaN'\n",
    "    features_list += ['poi_ratio']"
   ]
  },
  {
   "cell_type": "markdown",
   "metadata": {},
   "source": [
    "## 3.2 Intelligently select features (related mini-project : Lesson 11)"
   ]
  },
  {
   "cell_type": "markdown",
   "metadata": {},
   "source": [
    "My features were chosen the best results from the comparison of hand picked combinations."
   ]
  },
  {
   "cell_type": "code",
   "execution_count": 30,
   "metadata": {
    "collapsed": false
   },
   "outputs": [],
   "source": [
    "#Feature options cheat sheet\n",
    "\n",
    "#bonus                     \n",
    "#deferral_payments       \n",
    "#eferred_income            \n",
    "#director_fees              \n",
    "#email_address               \n",
    "#exercised_stock_options    \n",
    "#expenses                    \n",
    "#from_messages        \n",
    "#from_poi_to_this_person     \n",
    "#from_this_person_to_poi  \n",
    "#loan_advances                \n",
    "#long_term_incentive          \n",
    "#other                        \n",
    "#poi                        \n",
    "#restricted_stock            \n",
    "#restricted_stock_deferred    \n",
    "#salary                       \n",
    "#shared_receipt_with_poi     \n",
    "#to_messages                  \n",
    "#total_payments               \n",
    "#total_stock_value            \n",
    "\n",
    "features_list1 = ['poi', \n",
    "                 'salary', \n",
    "                 'bonus'] #1 \n",
    "\n",
    "features_list2 = ['poi', \n",
    "                 'salary', \n",
    "                 'bonus', \n",
    "                 'from_this_person_to_poi'] #2\n",
    "\n",
    "features_list3 = ['poi', \n",
    "                  'salary', \n",
    "                  'from_poi_to_this_person', \n",
    "                  'from_this_person_to_poi'] #3\n",
    "\n",
    "features_list4 = ['poi',\n",
    "                  'from_this_person_to_poi', \n",
    "                  'from_poi_to_this_person', \n",
    "                  'shared_receipt_with_poi'] #4\n",
    "\n",
    "features_list5 = ['poi',\n",
    "                  'from_this_person_to_poi'] #5\n",
    "\n",
    "#Gaussian test\n",
    "#1 = Accuracy: 0.24480\tPrecision: 0.18368\tRecall: 0.80600\n",
    "#2 = Accuracy: 0.23282\tPrecision: 0.15703\tRecall: 0.73700\n",
    "#3 = Accuracy: 0.58418\tPrecision: 0.16291\tRecall: 0.31100\n",
    "#4 = Accuracy: 0.71678\tPrecision: 0.01757\tRecall: 0.00500\n",
    "#5 = Accuracy: 0.63971\tPrecision: 0.12392\tRecall: 0.04300\tF1: 0.06385\n",
    "\n",
    "#4 = highest accuracy, try different classifier tunes to improve precision and recall"
   ]
  },
  {
   "cell_type": "markdown",
   "metadata": {},
   "source": [
    "## 3.3 Properly scale features (related mini-project Lessons 1-3)"
   ]
  },
  {
   "cell_type": "markdown",
   "metadata": {},
   "source": [
    "See response questions.  Question 2/Scaling Features"
   ]
  },
  {
   "cell_type": "markdown",
   "metadata": {},
   "source": [
    "# 4 Pick and tune an Algorithm (related mini-project Lesson 2,3,13)"
   ]
  },
  {
   "cell_type": "markdown",
   "metadata": {},
   "source": [
    "## 4.1 Pick an algorithm (related to mini project Lessons 1-3)"
   ]
  },
  {
   "cell_type": "markdown",
   "metadata": {},
   "source": [
    "Below is the process I went through while picking and tuning the algorithm.  "
   ]
  },
  {
   "cell_type": "code",
   "execution_count": 31,
   "metadata": {
    "collapsed": false
   },
   "outputs": [],
   "source": [
    "### Task 4: Try a varity of classifiers\n",
    "### Please name your classifier clf for easy export below.\n",
    "### Note that if you want to do PCA or other multi-stage operations,\n",
    "### you'll need to use Pipelines. For more info:\n",
    "### http://scikit-learn.org/stable/modules/pipeline.html\n",
    "\n",
    "#from sklearn.naive_bayes import GaussianNB\n",
    "#from sklearn import tree\n",
    "\n",
    "#clf = GaussianNB() \n",
    "#4 = Accuracy: 0.71678\tPrecision: 0.01757\tRecall: 0.00500\n",
    "#clf = sklearn.tree.DecisionTreeClassifier()\n",
    "#Accuracy: 0.73856\tPrecision: 0.39827\tRecall: 0.34550\n",
    "\n",
    "#Decision tree showing immediate gains in all categories over GaussianNB.  \n",
    "#Will use for tuning"
   ]
  },
  {
   "cell_type": "markdown",
   "metadata": {},
   "source": [
    "## 4.2 Tune the algorithm (related to mini project Lessons 2,3,13)"
   ]
  },
  {
   "cell_type": "code",
   "execution_count": 32,
   "metadata": {
    "collapsed": false
   },
   "outputs": [],
   "source": [
    "### Task 5: Tune your classifier to achieve better than .3 precision and recall \n",
    "### using our testing script.\n",
    "### Because of the small size of the dataset, the script uses stratified\n",
    "### shuffle split cross validation. For more info: \n",
    "### http://scikit-learn.org/stable/modules/generated/sklearn.cross_validation.StratifiedShuffleSplit.html\n",
    "\n",
    "#clf = sklearn.tree.DecisionTreeClassifier(max_depth = 1) #1                       \n",
    "#Accuracy: 0.81478\tPrecision: 0.93701\tRecall: 0.17850  \n",
    "#clf = sklearn.tree.DecisionTreeClassifier(max_depth = 5) #2\n",
    "# Accuracy: 0.73078\tPrecision: 0.37174\tRecall: 0.30650\n",
    "#clf = sklearn.tree.DecisionTreeClassifier(max_depth = 10) #3\n",
    "#Accuracy: 0.73756\tPrecision: 0.39716\tRecall: 0.34950\n",
    "#clf = sklearn.tree.DecisionTreeClassifier(criterion = 'entropy') #4\n",
    "#Accuracy: 0.73989\tPrecision: 0.40606\tRecall: 0.36850\n",
    "#clf = sklearn.tree.DecisionTreeClassifier(criterion ='entropy',max_depth = 1) #5\n",
    "#Accuracy: 0.81222\tPrecision: 0.93296\tRecall: 0.16700\n",
    "#clf = sklearn.tree.DecisionTreeClassifier(criterion ='entropy',max_depth = 10) #6\n",
    "#Accuracy: 0.74000\tPrecision: 0.40207\tRecall: 0.34900\n",
    "#clf = sklearn.tree.DecisionTreeClassifier(min_samples_leaf=5) #7\n",
    "#Accuracy: 0.72878\tPrecision: 0.38036\tRecall: 0.35050   \n",
    "#clf = sklearn.tree.DecisionTreeClassifier(min_samples_leaf=2) #8\n",
    "#Accuracy: 0.73822\tPrecision: 0.38648\tRecall: 0.30300\n",
    "\n",
    "#Little improvement from #6 but consistently better without too much complexity\n",
    "#Favorite is #5 but doesn't meet .3 recall. Use #5 \n"
   ]
  },
  {
   "cell_type": "markdown",
   "metadata": {},
   "source": [
    "#5. Validate and Evaluate\n"
   ]
  },
  {
   "cell_type": "markdown",
   "metadata": {},
   "source": [
    "See response question #6."
   ]
  },
  {
   "cell_type": "markdown",
   "metadata": {},
   "source": [
    "##1. My final poi_id.py file (playground solution)"
   ]
  },
  {
   "cell_type": "code",
   "execution_count": 33,
   "metadata": {
    "collapsed": false
   },
   "outputs": [
    {
     "name": "stdout",
     "output_type": "stream",
     "text": [
      "4 selected features: ['from_this_person_to_poi', 'from_poi_to_this_person', 'shared_receipt_with_poi', 'poi_ratio']\n",
      "\n",
      "DecisionTreeClassifier(compute_importances=None, criterion='gini',\n",
      "            max_depth=None, max_features=None, max_leaf_nodes=None,\n",
      "            min_density=None, min_samples_leaf=2, min_samples_split=2,\n",
      "            random_state=None, splitter='best')\n",
      "\tAccuracy: 0.77967\tPrecision: 0.50516\tRecall: 0.41600\tF1: 0.45627\tF2: 0.43122\n",
      "\tTotal predictions: 9000\tTrue positives:  832\tFalse positives:  815\tFalse negatives: 1168\tTrue negatives: 6185\n",
      "\n"
     ]
    }
   ],
   "source": [
    "import sys\n",
    "import pickle\n",
    "from copy import copy\n",
    "sys.path.append(\"../tools/\")\n",
    "import pickle\n",
    "\n",
    "from feature_format import featureFormat, targetFeatureSplit\n",
    "from tester import test_classifier, dump_classifier_and_data\n",
    "import sklearn\n",
    "import remove_outlier\n",
    "\n",
    "import evaluate\n",
    "\n",
    "from sklearn.naive_bayes import GaussianNB\n",
    "from sklearn.tree import DecisionTreeClassifier\n",
    "\n",
    "from feature_format import featureFormat\n",
    "from feature_format import targetFeatureSplit\n",
    "\n",
    "import poi_ratio\n",
    "\n",
    "\n",
    "\n",
    "features_list = [\n",
    "    'from_messages',\n",
    "    'from_poi_to_this_person',\n",
    "    'from_this_person_to_poi',\n",
    "    'shared_receipt_with_poi',\n",
    "    'to_messages',\n",
    "    'bonus',\n",
    "    'deferral_payments',\n",
    "    'deferred_income',\n",
    "    'director_fees',\n",
    "    'exercised_stock_options',\n",
    "    'expenses',\n",
    "    'loan_advances',\n",
    "    'long_term_incentive',\n",
    "    'other',\n",
    "    'restricted_stock',\n",
    "    'restricted_stock_deferred',\n",
    "    'salary',\n",
    "    'total_payments',\n",
    "    'total_stock_value',\n",
    "    ]\n",
    "\n",
    "\n",
    "### Task 1: Select what features you'll use.\n",
    "### features_list is a list of strings, each of which is a feature name.\n",
    "### The first feature must be \"poi\".\n",
    "\n",
    "#features_list = ['poi', 'salary', 'bonus'] #1 \n",
    "#features_list = ['poi', 'salary', 'bonus', 'from_this_person_to_poi'] #2\n",
    "#features_list = ['poi', 'salary', 'from_poi_to_this_person', 'from_this_person_to_poi'] #3\n",
    "features_list = ['poi','from_this_person_to_poi', 'from_poi_to_this_person', 'shared_receipt_with_poi'] #4\n",
    "#features_list = ['poi','from_this_person_to_poi'] #5\n",
    "\n",
    "### Load the dictionary containing the dataset\n",
    "data_dict = pickle.load(open(\"../data/final_project_dataset.pkl\", \"r\") )\n",
    "\n",
    "### Task 2: Remove outliers\n",
    "outliers = ['TOTAL']\n",
    "remove_outlier.remove_outlier(data_dict, outliers)\n",
    "\n",
    "\n",
    "### Task 3: Create new feature(s)\n",
    "#Make Copies\n",
    "my_dataset = copy(data_dict)\n",
    "features_list = copy(features_list)\n",
    "\n",
    "# add new features\n",
    "poi_ratio.add_poi_ratio(my_dataset, features_list)\n",
    "\n",
    "#Used gaussianNB to quickly determine features with highest accuracy\n",
    "\n",
    "\n",
    "#Gaussian test\n",
    "#1 = Accuracy: 0.24480\tPrecision: 0.18368\tRecall: 0.80600\n",
    "#2 = Accuracy: 0.23282\tPrecision: 0.15703\tRecall: 0.73700\n",
    "#3 = Accuracy: 0.58418\tPrecision: 0.16291\tRecall: 0.31100\n",
    "#4 = Accuracy: 0.71678\tPrecision: 0.01757\tRecall: 0.00500\n",
    "#5 = Accuracy: 0.63971\tPrecision: 0.12392\tRecall: 0.04300\tF1: 0.06385\n",
    "\n",
    "#4 = highest accuracy, try different classifier tunes to improve precision and recall\n",
    "\n",
    "#Print features\n",
    "print \"{0} selected features: {1}\\n\".format(len(features_list) - 1, features_list[1:])\n",
    "\n",
    "\n",
    "### Store to my_dataset for easy export below.\n",
    "my_dataset = data_dict\n",
    "\n",
    "### Extract features and labels from dataset for local testing\n",
    "data = featureFormat(my_dataset, features_list, sort_keys = True)\n",
    "labels, features = targetFeatureSplit(data)\n",
    "\n",
    "### Task 4: Try a varity of classifiers\n",
    "### Please name your classifier clf for easy export below.\n",
    "\n",
    "#clf = GaussianNB() \n",
    "#4 = Accuracy: 0.71678\tPrecision: 0.01757\tRecall: 0.00500 <-excludes made up feature\n",
    "#5 = Accuracy: 0.71489\tPrecision: 0.02833\tRecall: 0.00850 <- includes made up feature\n",
    "clf = sklearn.tree.DecisionTreeClassifier()\n",
    "#Accuracy: 0.73856\tPrecision: 0.39827\tRecall: 0.34550\n",
    "\n",
    "#Decision tree showing immediate gains in all categories over GaussianNB.  \n",
    "#Will use for tuning\n",
    "\n",
    "### Task 5: Tune your classifier to achieve better than .3 precision and recall \n",
    "### using our testing script.\n",
    "\n",
    "#clf = sklearn.tree.DecisionTreeClassifier(max_depth = 1) #1                       \n",
    "#Accuracy: 0.81478\tPrecision: 0.93701\tRecall: 0.17850\n",
    "\n",
    "#clf = sklearn.tree.DecisionTreeClassifier(max_depth = 5) #2\n",
    "# Accuracy: 0.77133\tPrecision: 0.48155\tRecall: 0.37850\n",
    "\n",
    "#clf = sklearn.tree.DecisionTreeClassifier(max_depth = 10) #3\n",
    "#Accuracy: 0.75467\tPrecision: 0.44439\tRecall: 0.41550\n",
    "\n",
    "#clf = sklearn.tree.DecisionTreeClassifier(criterion = 'entropy') #4\n",
    "#Accuracy: 0.76611\tPrecision: 0.47042\tRecall: 0.41750\n",
    "\n",
    "#clf = sklearn.tree.DecisionTreeClassifier(criterion ='entropy',max_depth = 1) #5\n",
    "#Accuracy: 0.81222\tPrecision: 0.93296\tRecall: 0.16700\n",
    "\n",
    "#clf = sklearn.tree.DecisionTreeClassifier(criterion ='entropy',max_depth = 10) #6\n",
    "#Accuracy: 0.76800\tPrecision: 0.47511\tRecall: 0.42000\n",
    "\n",
    "#clf = sklearn.tree.DecisionTreeClassifier(min_samples_leaf=5) #7\n",
    "#Accuracy: 0.76378\tPrecision: 0.46106\tRecall: 0.37300\n",
    "\n",
    "clf = sklearn.tree.DecisionTreeClassifier(min_samples_leaf=2) #8\n",
    "#Accuracy: 0.78322\tPrecision: 0.51510\tRecall: 0.41800\n",
    "\n",
    "#Most all models meet requirements but I will use #8 as my final model\n",
    "\n",
    "test_classifier(clf, my_dataset, features_list)\n",
    "\n",
    "### Dump your classifier, dataset, and features_list so \n",
    "### anyone can run/check your results.\n",
    "\n",
    "dump_classifier_and_data(clf, my_dataset, features_list)"
   ]
  }
 ],
 "metadata": {
  "kernelspec": {
   "display_name": "Python 2",
   "language": "python",
   "name": "python2"
  },
  "language_info": {
   "codemirror_mode": {
    "name": "ipython",
    "version": 2
   },
   "file_extension": ".py",
   "mimetype": "text/x-python",
   "name": "python",
   "nbconvert_exporter": "python",
   "pygments_lexer": "ipython2",
   "version": "2.7.9"
  }
 },
 "nbformat": 4,
 "nbformat_minor": 0
}
